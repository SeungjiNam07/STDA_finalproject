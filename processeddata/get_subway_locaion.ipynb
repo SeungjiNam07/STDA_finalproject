{
 "cells": [
  {
   "cell_type": "code",
   "execution_count": 36,
   "id": "43d7f34d",
   "metadata": {},
   "outputs": [],
   "source": [
    "from selenium import webdriver\n",
    "#from webdriver_manager.chrome import ChromeDriverManager\n",
    "from selenium.webdriver.common.keys import Keys\n",
    "from bs4 import BeautifulSoup\n",
    "import numpy as np\n",
    "import pandas as pd\n",
    "import pickle\n",
    "import requests\n",
    "import json\n",
    "import re\n",
    "from tqdm import tqdm"
   ]
  },
  {
   "cell_type": "code",
   "execution_count": 37,
   "id": "1b9ab9a1",
   "metadata": {},
   "outputs": [],
   "source": [
    "directory = '/Users/seungji/Library/Mobile Documents/com~apple~CloudDocs/STDA/Project/'"
   ]
  },
  {
   "cell_type": "code",
   "execution_count": 38,
   "id": "53d24549",
   "metadata": {},
   "outputs": [],
   "source": [
    "subway = pd.read_csv(directory + 'data/CARD_SUBWAY_MONTH_202110.csv')"
   ]
  },
  {
   "cell_type": "code",
   "execution_count": 39,
   "id": "9b07cc35",
   "metadata": {},
   "outputs": [],
   "source": [
    "subway = subway.reset_index()\n",
    "subway.columns = ['사용일자', '노선명', '역명', '승차총승객수', '하차총승객수', '등록일자','na']\n",
    "subway = subway.drop(columns = 'na')"
   ]
  },
  {
   "cell_type": "code",
   "execution_count": 40,
   "id": "a5131288",
   "metadata": {},
   "outputs": [],
   "source": [
    "subway_nm = subway.역명.unique()"
   ]
  },
  {
   "cell_type": "code",
   "execution_count": 41,
   "id": "ff9aacb8",
   "metadata": {},
   "outputs": [],
   "source": [
    "st = pd.DataFrame(columns=['subway_name','위도','경도'])\n",
    "st['subway_name'] = subway_nm\n",
    "val = pd.DataFrame(st['subway_name'].value_counts()).reset_index().rename(columns={'index':'subway_name','subway_name':'환승역 수'})\n",
    "st = st.drop_duplicates().reset_index(drop=True)\n",
    "st = pd.merge(st,val,how='inner',on='subway_name')"
   ]
  },
  {
   "cell_type": "code",
   "execution_count": 42,
   "id": "a376cfda",
   "metadata": {},
   "outputs": [],
   "source": [
    "st['subway_name'] = st['subway_name'].apply(lambda x : re.sub(r'\\([^)]*\\)','',x)) #괄호 포함 글자 제거"
   ]
  },
  {
   "cell_type": "code",
   "execution_count": 47,
   "id": "cfa15e68",
   "metadata": {},
   "outputs": [],
   "source": [
    "st['subway_name'] = list(map(lambda x: x+'역', st['subway_name']))"
   ]
  },
  {
   "cell_type": "code",
   "execution_count": 48,
   "id": "f8471655",
   "metadata": {},
   "outputs": [],
   "source": [
    "def get_location():\n",
    "    \n",
    "    subway = np.array(st['subway_name'])\n",
    "    \n",
    "    for i in tqdm(subway):\n",
    "        \n",
    "        url = \"https://dapi.kakao.com/v2/local/search/keyword.json\"\n",
    "\n",
    "        queryString = {'query' : i}\n",
    "        header = {'Authorization': 'KakaoAK 2faece6ee426f2b12f9f597dd2f0f9d0'} #rest api\n",
    "\n",
    "        response = requests.get(url, headers=header, params=queryString)\n",
    "        tokens = response.json()\n",
    "        \n",
    "        try: \n",
    "            lat = tokens['documents'][0]['x']\n",
    "            lng = tokens['documents'][0]['y']\n",
    "            st.loc[st['subway_name'].isin([i]),'위도'] = lat\n",
    "            st.loc[st['subway_name'].isin([i]),'경도'] = lng\n",
    "        except:\n",
    "            print(i)\n",
    "            pass"
   ]
  },
  {
   "cell_type": "code",
   "execution_count": 49,
   "id": "96e3105c",
   "metadata": {},
   "outputs": [
    {
     "name": "stderr",
     "output_type": "stream",
     "text": [
      "100%|█████████████████████████████████████████| 521/521 [02:27<00:00,  3.53it/s]\n"
     ]
    }
   ],
   "source": [
    "get_location()"
   ]
  },
  {
   "cell_type": "code",
   "execution_count": 50,
   "id": "3e61e4a0",
   "metadata": {},
   "outputs": [],
   "source": [
    "subway_location = st[['subway_name','위도','경도']]"
   ]
  },
  {
   "cell_type": "code",
   "execution_count": 52,
   "id": "92331345",
   "metadata": {},
   "outputs": [
    {
     "data": {
      "text/html": [
       "<div>\n",
       "<style scoped>\n",
       "    .dataframe tbody tr th:only-of-type {\n",
       "        vertical-align: middle;\n",
       "    }\n",
       "\n",
       "    .dataframe tbody tr th {\n",
       "        vertical-align: top;\n",
       "    }\n",
       "\n",
       "    .dataframe thead th {\n",
       "        text-align: right;\n",
       "    }\n",
       "</style>\n",
       "<table border=\"1\" class=\"dataframe\">\n",
       "  <thead>\n",
       "    <tr style=\"text-align: right;\">\n",
       "      <th></th>\n",
       "      <th>subway_name</th>\n",
       "      <th>위도</th>\n",
       "      <th>경도</th>\n",
       "    </tr>\n",
       "  </thead>\n",
       "  <tbody>\n",
       "    <tr>\n",
       "      <th>222</th>\n",
       "      <td>압구정역</td>\n",
       "      <td>127.02850865895756</td>\n",
       "      <td>37.52649127416921</td>\n",
       "    </tr>\n",
       "  </tbody>\n",
       "</table>\n",
       "</div>"
      ],
      "text/plain": [
       "    subway_name                  위도                 경도\n",
       "222        압구정역  127.02850865895756  37.52649127416921"
      ]
     },
     "execution_count": 52,
     "metadata": {},
     "output_type": "execute_result"
    }
   ],
   "source": [
    "subway_location[subway_location.subway_name == '압구정역']"
   ]
  },
  {
   "cell_type": "code",
   "execution_count": 53,
   "id": "dc1bb420",
   "metadata": {},
   "outputs": [],
   "source": [
    "subway_location.to_csv(directory + 'data/subway_location.csv', index = False)"
   ]
  },
  {
   "cell_type": "code",
   "execution_count": 31,
   "id": "94c2c0a5",
   "metadata": {},
   "outputs": [],
   "source": [
    "url = \"https://dapi.kakao.com/v2/local/search/keyword.json\"\n",
    "\n",
    "queryString = {'query' : '압구정역'}\n",
    "header = {'Authorization': 'KakaoAK 2faece6ee426f2b12f9f597dd2f0f9d0'} #rest api\n",
    "\n",
    "response = requests.get(url, headers=header, params=queryString)\n",
    "tokens = response.json()"
   ]
  },
  {
   "cell_type": "code",
   "execution_count": 32,
   "id": "8b80f3aa",
   "metadata": {},
   "outputs": [
    {
     "data": {
      "text/plain": [
       "{'documents': [{'address_name': '서울 강남구 신사동 668',\n",
       "   'category_group_code': 'SW8',\n",
       "   'category_group_name': '지하철역',\n",
       "   'category_name': '교통,수송 > 지하철,전철 > 수도권3호선',\n",
       "   'distance': '',\n",
       "   'id': '21160592',\n",
       "   'phone': '02-6110-3361',\n",
       "   'place_name': '압구정역 3호선',\n",
       "   'place_url': 'http://place.map.kakao.com/21160592',\n",
       "   'road_address_name': '서울 강남구 압구정로 지하 172',\n",
       "   'x': '127.02850865895756',\n",
       "   'y': '37.52649127416921'},\n",
       "  {'address_name': '서울 강남구 압구정동 495',\n",
       "   'category_group_code': 'SW8',\n",
       "   'category_group_name': '지하철역',\n",
       "   'category_name': '교통,수송 > 지하철,전철 > 수인분당선',\n",
       "   'distance': '',\n",
       "   'id': '18234115',\n",
       "   'phone': '1544-7788',\n",
       "   'place_name': '압구정로데오역 수인분당선',\n",
       "   'place_url': 'http://place.map.kakao.com/18234115',\n",
       "   'road_address_name': '서울 강남구 압구정로 지하 402',\n",
       "   'x': '127.0406027693898',\n",
       "   'y': '37.5275184818021'},\n",
       "  {'address_name': '서울 강남구 신사동 611',\n",
       "   'category_group_code': '',\n",
       "   'category_group_name': '',\n",
       "   'category_name': '가정,생활 > 생활용품점 > 다이소',\n",
       "   'distance': '',\n",
       "   'id': '1129725658',\n",
       "   'phone': '02-543-6016',\n",
       "   'place_name': '다이소 압구정역점',\n",
       "   'place_url': 'http://place.map.kakao.com/1129725658',\n",
       "   'road_address_name': '서울 강남구 논현로 878',\n",
       "   'x': '127.028938784232',\n",
       "   'y': '37.5270939398967'},\n",
       "  {'address_name': '서울 강남구 신사동 578-1',\n",
       "   'category_group_code': '',\n",
       "   'category_group_name': '',\n",
       "   'category_name': '가정,생활 > 미용 > 미용실 > 준오헤어',\n",
       "   'distance': '',\n",
       "   'id': '1047941230',\n",
       "   'phone': '02-514-0605',\n",
       "   'place_name': '준오헤어 압구정역블랙점',\n",
       "   'place_url': 'http://place.map.kakao.com/1047941230',\n",
       "   'road_address_name': '서울 강남구 논현로175길 11',\n",
       "   'x': '127.027567226174',\n",
       "   'y': '37.5259626094403'},\n",
       "  {'address_name': '서울 강남구 신사동 579-2',\n",
       "   'category_group_code': 'BK9',\n",
       "   'category_group_name': '은행',\n",
       "   'category_name': '금융,보험 > 금융서비스 > 은행 > KB국민은행',\n",
       "   'distance': '',\n",
       "   'id': '10135456',\n",
       "   'phone': '02-512-7114',\n",
       "   'place_name': 'KB국민은행 압구정역지점',\n",
       "   'place_url': 'http://place.map.kakao.com/10135456',\n",
       "   'road_address_name': '서울 강남구 압구정로 160',\n",
       "   'x': '127.027178191273',\n",
       "   'y': '37.5263158924297'},\n",
       "  {'address_name': '서울 강남구 신사동 575',\n",
       "   'category_group_code': 'BK9',\n",
       "   'category_group_name': '은행',\n",
       "   'category_name': '금융,보험 > 금융서비스 > 은행 > 신한은행',\n",
       "   'distance': '',\n",
       "   'id': '10607039',\n",
       "   'phone': '02-3443-8200',\n",
       "   'place_name': '신한은행 압구정역지점',\n",
       "   'place_url': 'http://place.map.kakao.com/10607039',\n",
       "   'road_address_name': '서울 강남구 압구정로 152',\n",
       "   'x': '127.026128142495',\n",
       "   'y': '37.5257178639901'},\n",
       "  {'address_name': '서울 강남구 신사동 614-2',\n",
       "   'category_group_code': 'BK9',\n",
       "   'category_group_name': '은행',\n",
       "   'category_name': '금융,보험 > 금융서비스 > 은행 > 우리은행',\n",
       "   'distance': '',\n",
       "   'id': '10703924',\n",
       "   'phone': '02-546-1901',\n",
       "   'place_name': '우리은행 압구정역지점',\n",
       "   'place_url': 'http://place.map.kakao.com/10703924',\n",
       "   'road_address_name': '서울 강남구 압구정로 208',\n",
       "   'x': '127.02980556816239',\n",
       "   'y': '37.527607295417894'},\n",
       "  {'address_name': '서울 강남구 신사동 599-4',\n",
       "   'category_group_code': 'BK9',\n",
       "   'category_group_name': '은행',\n",
       "   'category_name': '금융,보험 > 금융서비스 > 은행 > NH농협은행',\n",
       "   'distance': '',\n",
       "   'id': '2056961127',\n",
       "   'phone': '02-540-6400',\n",
       "   'place_name': 'NH농협은행 압구정역지점',\n",
       "   'place_url': 'http://place.map.kakao.com/2056961127',\n",
       "   'road_address_name': '서울 강남구 논현로 842',\n",
       "   'x': '127.02863213146084',\n",
       "   'y': '37.52395312099169'},\n",
       "  {'address_name': '서울 강남구 신사동 611',\n",
       "   'category_group_code': '',\n",
       "   'category_group_name': '',\n",
       "   'category_name': '가정,생활 > 드럭스토어 > 올리브영',\n",
       "   'distance': '',\n",
       "   'id': '11910220',\n",
       "   'phone': '02-549-5296',\n",
       "   'place_name': '올리브영 압구정역점',\n",
       "   'place_url': 'http://place.map.kakao.com/11910220',\n",
       "   'road_address_name': '서울 강남구 논현로 878',\n",
       "   'x': '127.02909158912773',\n",
       "   'y': '37.52729662779193'},\n",
       "  {'address_name': '서울 강남구 신사동 611',\n",
       "   'category_group_code': 'BK9',\n",
       "   'category_group_name': '은행',\n",
       "   'category_name': '금융,보험 > 금융서비스 > 은행 > 하나은행',\n",
       "   'distance': '',\n",
       "   'id': '1579437265',\n",
       "   'phone': '02-3444-0929',\n",
       "   'place_name': '하나은행 압구정역PB센터',\n",
       "   'place_url': 'http://place.map.kakao.com/1579437265',\n",
       "   'road_address_name': '서울 강남구 논현로 878',\n",
       "   'x': '127.029083662626',\n",
       "   'y': '37.5272777087038'},\n",
       "  {'address_name': '서울 강남구 압구정동',\n",
       "   'category_group_code': '',\n",
       "   'category_group_name': '',\n",
       "   'category_name': '교통,수송 > 도로시설 > 교차로',\n",
       "   'distance': '',\n",
       "   'id': '15141354',\n",
       "   'phone': '',\n",
       "   'place_name': '압구정역교차로',\n",
       "   'place_url': 'http://place.map.kakao.com/15141354',\n",
       "   'road_address_name': '',\n",
       "   'x': '127.028567828904',\n",
       "   'y': '37.5273895588424'},\n",
       "  {'address_name': '서울 강남구 신사동 584-6',\n",
       "   'category_group_code': 'BK9',\n",
       "   'category_group_name': '은행',\n",
       "   'category_name': '금융,보험 > 금융서비스 > 은행 > 수협은행',\n",
       "   'distance': '',\n",
       "   'id': '18705836',\n",
       "   'phone': '02-3446-2635',\n",
       "   'place_name': 'Sh수협은행 압구정금융센터',\n",
       "   'place_url': 'http://place.map.kakao.com/18705836',\n",
       "   'road_address_name': '서울 강남구 논현로 839',\n",
       "   'x': '127.0280415013805',\n",
       "   'y': '37.52364962487064'},\n",
       "  {'address_name': '서울 강남구 신사동 575',\n",
       "   'category_group_code': 'BK9',\n",
       "   'category_group_name': '은행',\n",
       "   'category_name': '금융,보험 > 금융서비스 > 은행 > 신한은행',\n",
       "   'distance': '',\n",
       "   'id': '501613235',\n",
       "   'phone': '02-514-6790',\n",
       "   'place_name': '신한은행 압구정역기업금융센터',\n",
       "   'place_url': 'http://place.map.kakao.com/501613235',\n",
       "   'road_address_name': '서울 강남구 압구정로 152',\n",
       "   'x': '127.026150771953',\n",
       "   'y': '37.5257286710077'},\n",
       "  {'address_name': '서울 강남구 신사동 577-12',\n",
       "   'category_group_code': 'CS2',\n",
       "   'category_group_name': '편의점',\n",
       "   'category_name': '가정,생활 > 편의점 > GS25',\n",
       "   'distance': '',\n",
       "   'id': '12296408',\n",
       "   'phone': '02-549-3196',\n",
       "   'place_name': 'GS25 압구정역점',\n",
       "   'place_url': 'http://place.map.kakao.com/12296408',\n",
       "   'road_address_name': '서울 강남구 압구정로28길 18',\n",
       "   'x': '127.027580615872',\n",
       "   'y': '37.5254580451008'},\n",
       "  {'address_name': '서울 강남구 신사동 585-13',\n",
       "   'category_group_code': '',\n",
       "   'category_group_name': '',\n",
       "   'category_name': '스포츠,레저 > 골프 > 골프연습장 > 스크린골프연습장 > 골프존파크',\n",
       "   'distance': '',\n",
       "   'id': '2060434197',\n",
       "   'phone': '02-3445-3985',\n",
       "   'place_name': '골프존파크 신사압구정역점',\n",
       "   'place_url': 'http://place.map.kakao.com/2060434197',\n",
       "   'road_address_name': '서울 강남구 논현로 833',\n",
       "   'x': '127.028023084216',\n",
       "   'y': '37.5228017858461'}],\n",
       " 'meta': {'is_end': False,\n",
       "  'pageable_count': 32,\n",
       "  'same_name': {'keyword': '압구정역', 'region': [], 'selected_region': ''},\n",
       "  'total_count': 109}}"
      ]
     },
     "execution_count": 32,
     "metadata": {},
     "output_type": "execute_result"
    }
   ],
   "source": [
    "tokens"
   ]
  },
  {
   "cell_type": "code",
   "execution_count": 30,
   "id": "815c89b3",
   "metadata": {},
   "outputs": [
    {
     "data": {
      "text/plain": [
       "'127.029112581665'"
      ]
     },
     "execution_count": 30,
     "metadata": {},
     "output_type": "execute_result"
    }
   ],
   "source": [
    "tokens['documents'][0]['x']"
   ]
  }
 ],
 "metadata": {
  "kernelspec": {
   "display_name": "Python 3 (ipykernel)",
   "language": "python",
   "name": "python3"
  },
  "language_info": {
   "codemirror_mode": {
    "name": "ipython",
    "version": 3
   },
   "file_extension": ".py",
   "mimetype": "text/x-python",
   "name": "python",
   "nbconvert_exporter": "python",
   "pygments_lexer": "ipython3",
   "version": "3.8.5"
  }
 },
 "nbformat": 4,
 "nbformat_minor": 5
}
